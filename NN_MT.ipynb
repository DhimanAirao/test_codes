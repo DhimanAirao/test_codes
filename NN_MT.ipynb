{
 "cells": [
  {
   "cell_type": "code",
   "execution_count": 1,
   "metadata": {},
   "outputs": [],
   "source": [
    "import numpy as np"
   ]
  },
  {
   "cell_type": "markdown",
   "metadata": {},
   "source": [
    "# Reading dataset"
   ]
  },
  {
   "cell_type": "code",
   "execution_count": 2,
   "metadata": {},
   "outputs": [],
   "source": [
    "dataset=np.genfromtxt(\"C:\\\\Users\\Dharmik\\Desktop\\data.csv\",delimiter=\",\")\n",
    "\n",
    "x=dataset[1:,1:-1] #shape(1000,28)\n",
    "\n",
    "y_raw=dataset[1:,-1]\n",
    "\n",
    "y=y_raw.reshape((1000,1)) #shape(1000,1)\n",
    "\n",
    "len_y=len(y)\n",
    "y=y.astype('int')"
   ]
  },
  {
   "cell_type": "code",
   "execution_count": 3,
   "metadata": {},
   "outputs": [
    {
     "name": "stdout",
     "output_type": "stream",
     "text": [
      "(1000, 28)\n",
      "(1000, 1)\n"
     ]
    }
   ],
   "source": [
    "print(x.shape)\n",
    "print(y.shape)"
   ]
  },
  {
   "cell_type": "code",
   "execution_count": 4,
   "metadata": {},
   "outputs": [],
   "source": [
    "epochs=1000\n",
    "learning_rate=0.01\n",
    "hiddenlayer_num=20\n",
    "n=x.shape[0]\n"
   ]
  },
  {
   "cell_type": "markdown",
   "metadata": {},
   "source": [
    "# Sigmoid and its derivative\n"
   ]
  },
  {
   "cell_type": "code",
   "execution_count": 5,
   "metadata": {},
   "outputs": [],
   "source": [
    "def sigmoid(z):\n",
    "    return (1/(1+np.exp(-z)))\n",
    "\n",
    "def sigmoidDerivative(sigmoid):\n",
    "    return sigmoid * (1 - sigmoid)"
   ]
  },
  {
   "cell_type": "markdown",
   "metadata": {},
   "source": [
    "# Initializing weights\n"
   ]
  },
  {
   "cell_type": "code",
   "execution_count": 6,
   "metadata": {},
   "outputs": [
    {
     "name": "stdout",
     "output_type": "stream",
     "text": [
      "(20, 28)\n",
      "(10, 20)\n"
     ]
    }
   ],
   "source": [
    "W1=np.random.rand(hiddenlayer_num,x.shape[1])*0.01 #shape(20,28)\n",
    "W2=np.random.rand(10,hiddenlayer_num)*0.01 #shape(10,20) 10 is the number of classes\n",
    "print(W1.shape) \n",
    "print(W2.shape)"
   ]
  },
  {
   "cell_type": "markdown",
   "metadata": {},
   "source": [
    "# Feedforward"
   ]
  },
  {
   "cell_type": "code",
   "execution_count": 7,
   "metadata": {},
   "outputs": [
    {
     "name": "stdout",
     "output_type": "stream",
     "text": [
      "(20, 1000)\n",
      "(1000, 10)\n"
     ]
    }
   ],
   "source": [
    "def feedforward(x,W1,W2):\n",
    "    A1 = sigmoid(np.dot(W1,x.T))     #shape(20,1000)\n",
    "    A2 = sigmoid(np.dot(W2,A1)).T#shape(1000,10)\n",
    "    print(A1.shape)\n",
    "    print(A2.shape)\n",
    "    return A2,A1\n",
    "\n",
    "A2,A1 = feedforward(x,W1,W2) #defining variables for the output of feedforward network which will be used in backpropagation\n"
   ]
  },
  {
   "cell_type": "markdown",
   "metadata": {},
   "source": [
    "# One hot Encoder"
   ]
  },
  {
   "cell_type": "code",
   "execution_count": 8,
   "metadata": {},
   "outputs": [
    {
     "name": "stdout",
     "output_type": "stream",
     "text": [
      "[[1. 0. 0. ... 0. 0. 0.]\n",
      " [1. 0. 0. ... 0. 0. 0.]\n",
      " [1. 0. 0. ... 0. 0. 0.]\n",
      " ...\n",
      " [0. 0. 0. ... 0. 0. 1.]\n",
      " [0. 0. 0. ... 0. 0. 1.]\n",
      " [0. 0. 0. ... 0. 0. 1.]]\n"
     ]
    }
   ],
   "source": [
    "def onehotencoder(onehot_raw):\n",
    "    onehot_raw=np.zeros((x.shape[0],10))# to create a matrix of zeros which will provide a frameworkto create one hot encoded matrix of y\n",
    "    for i in range(len_y):\n",
    "        onehot_raw[i][int(y[i])]=1  \n",
    "    return onehot_raw   #creates a onehotencoded matrix of (1000,10) shape\n",
    "\n",
    "print(onehotencoder(y))\n",
    "#at first the onehotencoded matrix was not coming out to be proper. that is because the y matrix had dtype of float and not int. so when I type converted it into int dtpye the proper one hot encoded matrix was obtained.\n"
   ]
  },
  {
   "cell_type": "markdown",
   "metadata": {},
   "source": [
    "# Backpropagation"
   ]
  },
  {
   "cell_type": "code",
   "execution_count": 25,
   "metadata": {
    "scrolled": true
   },
   "outputs": [
    {
     "ename": "ValueError",
     "evalue": "operands could not be broadcast together with shapes (20,28) (28,10) ",
     "output_type": "error",
     "traceback": [
      "\u001b[1;31m---------------------------------------------------------------------------\u001b[0m",
      "\u001b[1;31mValueError\u001b[0m                                Traceback (most recent call last)",
      "\u001b[1;32m<ipython-input-25-c51c612abd12>\u001b[0m in \u001b[0;36m<module>\u001b[1;34m\u001b[0m\n\u001b[0;32m     24\u001b[0m \u001b[1;33m\u001b[0m\u001b[0m\n\u001b[0;32m     25\u001b[0m     \u001b[1;32mreturn\u001b[0m \u001b[0mdW2\u001b[0m\u001b[1;33m,\u001b[0m\u001b[0mW1\u001b[0m\u001b[1;33m\u001b[0m\u001b[0m\n\u001b[1;32m---> 26\u001b[1;33m \u001b[0mW2\u001b[0m\u001b[1;33m,\u001b[0m\u001b[0mW1\u001b[0m\u001b[1;33m=\u001b[0m\u001b[0mbackpropagation\u001b[0m\u001b[1;33m(\u001b[0m\u001b[0mW2\u001b[0m\u001b[1;33m,\u001b[0m\u001b[0mW1\u001b[0m\u001b[1;33m,\u001b[0m\u001b[0mA2\u001b[0m\u001b[1;33m,\u001b[0m\u001b[0mA1\u001b[0m\u001b[1;33m,\u001b[0m\u001b[0mx\u001b[0m\u001b[1;33m,\u001b[0m\u001b[0mY\u001b[0m\u001b[1;33m)\u001b[0m\u001b[1;33m\u001b[0m\u001b[0m\n\u001b[0m",
      "\u001b[1;32m<ipython-input-25-c51c612abd12>\u001b[0m in \u001b[0;36mbackpropagation\u001b[1;34m(W2, W1, A2, A1, x, Y)\u001b[0m\n\u001b[0;32m     20\u001b[0m \u001b[1;33m\u001b[0m\u001b[0m\n\u001b[0;32m     21\u001b[0m         \u001b[0mW2\u001b[0m\u001b[1;33m=\u001b[0m\u001b[0mW2\u001b[0m\u001b[1;33m-\u001b[0m\u001b[0mlearning_rate\u001b[0m\u001b[1;33m*\u001b[0m\u001b[0mdW2\u001b[0m\u001b[1;33m\u001b[0m\u001b[0m\n\u001b[1;32m---> 22\u001b[1;33m         \u001b[0mW1\u001b[0m\u001b[1;33m=\u001b[0m\u001b[0mW1\u001b[0m\u001b[1;33m-\u001b[0m\u001b[0mlearning_rate\u001b[0m\u001b[1;33m*\u001b[0m\u001b[0mdW1\u001b[0m\u001b[1;33m\u001b[0m\u001b[0m\n\u001b[0m\u001b[0;32m     23\u001b[0m \u001b[1;33m\u001b[0m\u001b[0m\n\u001b[0;32m     24\u001b[0m \u001b[1;33m\u001b[0m\u001b[0m\n",
      "\u001b[1;31mValueError\u001b[0m: operands could not be broadcast together with shapes (20,28) (28,10) "
     ]
    }
   ],
   "source": [
    "Y=onehotencoder(y) #onehotencoded y matrix\n",
    "\n",
    "def backpropagation(W2,W1,A2,A1,x,Y):\n",
    "    for iters in range(epochs):\n",
    "        Z1 = np.dot(W1, x.T)      #shape(20,1000)\n",
    "        A1 = sigmoid(Z1)          #shape(20,1000) \n",
    "        Z2 = np.dot(W2, A1).T     #shape(1000,10)\n",
    "        A2 = sigmoid(Z2)          #shape(1000,10)\n",
    "        cost = np.sum((Y * np.log(A2)) + ((1-Y) * np.log(1-A2))) * (-1/n)\n",
    "        \n",
    "        #calculating derivatives of Z2,W2,A1,W1 wrt cost function\n",
    "        \n",
    "        dZ2=(-1/n)*(Y-A2)   #shape(1000,10)\n",
    "        dW2=np.dot(A1,dZ2).T  #shape(10,20)\n",
    "        dA1=np.dot(dZ2,W2)  #shape(1000,20)\n",
    "        dZ1=np.dot(dW2,sigmoidDerivative(Z1)).T #shape(1000,10)\n",
    "        dW1=np.dot(x.T,dZ1) #shape(28,10)\n",
    "        \n",
    "        #updating weights \n",
    "        \n",
    "        W2=W2-learning_rate*dW2\n",
    "        W1=W1-learning_rate*dW1\n",
    "        \n",
    "    \n",
    "    return dW2,W1\n",
    "W2,W1=backpropagation(W2,W1,A2,A1,x,Y)"
   ]
  },
  {
   "cell_type": "markdown",
   "metadata": {},
   "source": [
    "# Test Function"
   ]
  },
  {
   "cell_type": "code",
   "execution_count": 101,
   "metadata": {},
   "outputs": [],
   "source": [
    "def test(x,y,W1,W2):\n",
    "    Z1 = np.dot(W1, x.T) \n",
    "    A1 = sigmoid(Z1) \n",
    "    Z2 = np.dot(W2, A1)\n",
    "    A2 = sigmoid(Z2)\n",
    "    y_prediction=(A2>0.6)\n",
    "    #print(classification_report(y_predictions, y))\n",
    "    "
   ]
  },
  {
   "cell_type": "code",
   "execution_count": null,
   "metadata": {},
   "outputs": [],
   "source": []
  }
 ],
 "metadata": {
  "kernelspec": {
   "display_name": "Python 3",
   "language": "python",
   "name": "python3"
  },
  "language_info": {
   "codemirror_mode": {
    "name": "ipython",
    "version": 3
   },
   "file_extension": ".py",
   "mimetype": "text/x-python",
   "name": "python",
   "nbconvert_exporter": "python",
   "pygments_lexer": "ipython3",
   "version": "3.7.0"
  }
 },
 "nbformat": 4,
 "nbformat_minor": 2
}
