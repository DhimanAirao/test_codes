{
 "cells": [
  {
   "cell_type": "code",
   "execution_count": 73,
   "metadata": {},
   "outputs": [],
   "source": [
    "import numpy as np\n",
    "from sklearn.model_selection import train_test_split\n",
    "from sklearn.metrics import confusion_matrix, classification_report\n"
   ]
  },
  {
   "cell_type": "markdown",
   "metadata": {},
   "source": [
    "# Reading dataset"
   ]
  },
  {
   "cell_type": "code",
   "execution_count": 86,
   "metadata": {},
   "outputs": [],
   "source": [
    "dataset=np.genfromtxt(\"C:\\\\Users\\Dharmik\\Desktop\\data.csv\",delimiter=\",\")\n",
    "\n",
    "x=dataset[1:,1:-1] #shape(1000,28)\n",
    "\n",
    "y_raw=dataset[1:,-1]\n",
    "\n",
    "y=y_raw.reshape((1000,1)) #shape(1000,1)\n",
    "\n",
    "y=y.astype('int')\n",
    "\n",
    "x_train,x_test,y_train,y_test=train_test_split(x, y, test_size=0.25, random_state=42)\n",
    "\n",
    "len_y=len(y_train)\n",
    "\n"
   ]
  },
  {
   "cell_type": "code",
   "execution_count": 87,
   "metadata": {},
   "outputs": [
    {
     "name": "stdout",
     "output_type": "stream",
     "text": [
      "(750, 28)\n",
      "(750, 1)\n"
     ]
    }
   ],
   "source": [
    "print(x_train.shape)\n",
    "print(y_train.shape)"
   ]
  },
  {
   "cell_type": "code",
   "execution_count": 88,
   "metadata": {},
   "outputs": [],
   "source": [
    "epochs=1000\n",
    "learning_rate=0.01\n",
    "hiddenlayer_num=20\n",
    "n=x.shape[0]\n"
   ]
  },
  {
   "cell_type": "markdown",
   "metadata": {},
   "source": [
    "# Sigmoid and its derivative\n"
   ]
  },
  {
   "cell_type": "code",
   "execution_count": 89,
   "metadata": {},
   "outputs": [],
   "source": [
    "def sigmoid(z):\n",
    "    return (1/(1+np.exp(-z)))\n",
    "\n",
    "def sigmoidDerivative(sigmoid):\n",
    "    return sigmoid * (1 - sigmoid)\n"
   ]
  },
  {
   "cell_type": "markdown",
   "metadata": {},
   "source": [
    "# Initializing weights\n"
   ]
  },
  {
   "cell_type": "code",
   "execution_count": 90,
   "metadata": {},
   "outputs": [
    {
     "name": "stdout",
     "output_type": "stream",
     "text": [
      "(20, 28)\n",
      "(10, 20)\n"
     ]
    }
   ],
   "source": [
    "W1=np.random.rand(hiddenlayer_num,x_train.shape[1])*0.01 #shape(20,28)\n",
    "W2=np.random.rand(10,hiddenlayer_num)*0.01 #shape(10,20) 10 is the number of classes\n",
    "print(W1.shape) \n",
    "print(W2.shape)"
   ]
  },
  {
   "cell_type": "markdown",
   "metadata": {},
   "source": [
    "# Feedforward"
   ]
  },
  {
   "cell_type": "code",
   "execution_count": 91,
   "metadata": {},
   "outputs": [
    {
     "name": "stdout",
     "output_type": "stream",
     "text": [
      "(20, 750)\n",
      "(750, 10)\n"
     ]
    }
   ],
   "source": [
    "def feedforward(x_train,W1,W2):\n",
    "    A1 = sigmoid(np.dot(W1,x_train.T))     #shape(20,1000)\n",
    "    A2 = sigmoid(np.dot(W2,A1)).T          #shape(1000,10)\n",
    "    print(A1.shape)\n",
    "    print(A2.shape)\n",
    "    return A2,A1\n",
    "\n",
    "A2,A1 = feedforward(x_train,W1,W2) #defining variables for the output of feedforward network which will be used in backpropagation\n"
   ]
  },
  {
   "cell_type": "markdown",
   "metadata": {},
   "source": [
    "# One hot Encoder"
   ]
  },
  {
   "cell_type": "code",
   "execution_count": 92,
   "metadata": {},
   "outputs": [
    {
     "name": "stdout",
     "output_type": "stream",
     "text": [
      "[[1. 0. 0. ... 0. 0. 0.]\n",
      " [1. 0. 0. ... 0. 0. 0.]\n",
      " [1. 0. 0. ... 0. 0. 0.]\n",
      " ...\n",
      " [0. 0. 0. ... 1. 0. 0.]\n",
      " [0. 0. 0. ... 1. 0. 0.]\n",
      " [0. 0. 0. ... 1. 0. 0.]]\n",
      " \n",
      "(750, 10)\n"
     ]
    }
   ],
   "source": [
    "def onehotencoder(onehot_raw):\n",
    "    onehot_raw=np.zeros((x_train.shape[0],10))# to create a matrix of zeros which will provide a frameworkto create one hot encoded matrix of y\n",
    "    for i in range(len_y):\n",
    "        onehot_raw[i][int(y[i])]=1  \n",
    "    return onehot_raw   #creates a onehotencoded matrix of (1000,10) shape\n",
    "\n",
    "print(onehotencoder(y_train), onehotencoder(y_train).shape,sep='\\n \\n')\n",
    "#at first the onehotencoded matrix was not coming out to be proper. that is because the y matrix had dtype of float and not int. so when I type converted it into int dtpye the proper one hot encoded matrix was obtained.\n"
   ]
  },
  {
   "cell_type": "markdown",
   "metadata": {},
   "source": [
    "# Backpropagation"
   ]
  },
  {
   "cell_type": "code",
   "execution_count": 93,
   "metadata": {
    "scrolled": true
   },
   "outputs": [
    {
     "name": "stdout",
     "output_type": "stream",
     "text": [
      "(10, 20)\n",
      "(20, 28)\n"
     ]
    }
   ],
   "source": [
    "Y=onehotencoder(y_train) #onehotencoded y matrix\n",
    "\n",
    "def backpropagation(W2,W1,A2,A1,x,Y):\n",
    "    for iters in range(epochs):\n",
    "        Z1 = np.dot(x_train, W1.T)      #shape(1000,20)\n",
    "        A1 = sigmoid(Z1)          #shape(1000,20)\n",
    "        Z2 = np.dot(A1, W2.T)     #shape(1000,10)\n",
    "        A2 = sigmoid(Z2)          #shape(1000,10)\n",
    "        cost = np.sum((Y * np.log(A2)) + ((1-Y) * np.log(1-A2))) * (-1/n)\n",
    "        \n",
    "        #calculating derivatives of Z2,W2,A1,W1 wrt cost function\n",
    "        \n",
    "        dZ2=(-1/n)*(Y-A2)                #shape(1000,10)\n",
    "        dW2=np.dot(dZ2.T, A1)            #shape(10,20)\n",
    "        dA1=np.dot(dZ2,W2)               #shape(1000,20)\n",
    "        dZ1=   dA1*sigmoidDerivative(A1) #shape(1000, 20)    ####################\n",
    "        dW1=np.dot(x_train.T,dZ1).T      #shape(28,10)\n",
    "        \n",
    "        #updating weights \n",
    "        \n",
    "        W2=W2-learning_rate*dW2\n",
    "        W1=W1-learning_rate*dW1\n",
    "        \n",
    "    \n",
    "    return W2,W1\n",
    "W2,W1=backpropagation(W2,W1,A2,A1,x,Y)\n",
    "\n",
    "print(W2.shape)\n",
    "print(W1.shape)"
   ]
  },
  {
   "cell_type": "markdown",
   "metadata": {},
   "source": [
    "# Test Function"
   ]
  },
  {
   "cell_type": "code",
   "execution_count": 104,
   "metadata": {},
   "outputs": [
    {
     "name": "stdout",
     "output_type": "stream",
     "text": [
      "(250, 1) [13]\n"
     ]
    }
   ],
   "source": [
    "def test(x,y,W1,W2):\n",
    "    Z1 = np.dot(W1, x_test.T) \n",
    "    A1 = sigmoid(Z1) \n",
    "    Z2 = np.dot(W2, A1)\n",
    "    A2 = sigmoid(Z2)\n",
    "    \n",
    "    \n",
    "test(x_test,y_test,W1,W2)\n",
    "    "
   ]
  },
  {
   "cell_type": "code",
   "execution_count": null,
   "metadata": {},
   "outputs": [],
   "source": []
  }
 ],
 "metadata": {
  "kernelspec": {
   "display_name": "Python 3",
   "language": "python",
   "name": "python3"
  },
  "language_info": {
   "codemirror_mode": {
    "name": "ipython",
    "version": 3
   },
   "file_extension": ".py",
   "mimetype": "text/x-python",
   "name": "python",
   "nbconvert_exporter": "python",
   "pygments_lexer": "ipython3",
   "version": "3.7.0"
  }
 },
 "nbformat": 4,
 "nbformat_minor": 2
}
